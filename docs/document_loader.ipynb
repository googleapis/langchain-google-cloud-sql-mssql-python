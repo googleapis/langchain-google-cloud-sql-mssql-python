{
 "cells": [
  {
   "cell_type": "markdown",
   "metadata": {},
   "source": [
    "# Google Datebase Cloud SQL MSSQL Langchain Document Loader\n",
    "\n",
    "[Google Database Cloud SQL for MSSQL](https://cloud.google.com/sql/MSSQL).\n",
    "\n",
    "Save, load and delete langchain documents from `MSSQL` database.\n",
    "\n",
    "[![Open In Colab](https://colab.research.google.com/assets/colab-badge.svg)](https://colab.research.google.com/github/googleapis/langchain-google-cloud-sql-MSSQL-python/blob/main/docs/document_loader.ipynb)"
   ]
  },
  {
   "cell_type": "markdown",
   "metadata": {},
   "source": [
    "## Pre-reqs"
   ]
  },
  {
   "cell_type": "markdown",
   "metadata": {},
   "source": [
    "### Install package"
   ]
  },
  {
   "cell_type": "code",
   "execution_count": null,
   "metadata": {
    "tags": []
   },
   "outputs": [],
   "source": [
    "%pip install langchain-google-cloud-sql-mssql"
   ]
  },
  {
   "cell_type": "code",
   "execution_count": 1,
   "metadata": {
    "tags": []
   },
   "outputs": [],
   "source": [
    "from langchain_google_cloud_sql_mssql import MSSQLEngine, MSSQLLoader, MSSQLDocumentSaver\n",
    "from langchain_core.documents import Document\n",
    "import sqlalchemy"
   ]
  },
  {
   "cell_type": "markdown",
   "metadata": {},
   "source": [
    "### Setup Cloud SQL MSSQL database and configure IAM user access to database"
   ]
  },
  {
   "cell_type": "markdown",
   "metadata": {},
   "source": [
    "Setup Cloud SQL MSSQL database: https://cloud.google.com/sql/docs/MSSQL/create-instance\n",
    "\n",
    "Login datebase using IAM database authentication: https://cloud.google.com/sql/docs/MSSQL/iam-logins\n",
    "\n",
    "After confirmed access to database in the runtime environment of this notebook, filling the following values and run the cell before running the following example scripts.\n",
    "\n"
   ]
  },
  {
   "cell_type": "code",
   "execution_count": 3,
   "metadata": {
    "tags": []
   },
   "outputs": [],
   "source": [
    "#@markdown Please fill in the value below with your GCP project ID and then run the cell.\n",
    "\n",
    "# Please fill in these values.\n",
    "project_id = \"langchain-cloud-sql-testing\" #@param {type:\"string\"}\n",
    "\n",
    "#@markdown Please fill in the both the Google Cloud region and name of your Cloud SQL instance.\n",
    "region = \"us-central1\" #@param {type:\"string\"}\n",
    "instance_id = \"test-mssql-instance\" #@param {type:\"string\"}\n",
    "db_name = \"test\" #@param {type:\"string\"}\n",
    "user_name = \"sqlserver\" #@param {type:\"string\"}\n",
    "password = \"Csql-admin-1234\" #@param {type:\"string\"}\n",
    "\n",
    "#@markdown Please specify a table name for demo purpose.\n",
    "table_name = \"test-default\" #@param {type:\"string\"}"
   ]
  },
  {
   "cell_type": "markdown",
   "metadata": {},
   "source": [
    "## Basic Usage"
   ]
  },
  {
   "cell_type": "markdown",
   "metadata": {},
   "source": [
    "### Save documents in default table"
   ]
  },
  {
   "cell_type": "markdown",
   "metadata": {},
   "source": [
    "Create a table of default schema via `MSSQLEngine.init_document_table(<table_name>)`. Table Columns:\n",
    "- page_content (type: text)\n",
    "- langchain_metadata (type: JSON)"
   ]
  },
  {
   "cell_type": "code",
   "execution_count": 4,
   "metadata": {},
   "outputs": [
    {
     "name": "stdout",
     "output_type": "stream",
     "text": [
      "('test', 'dbo', 'test-default', 'page_content', 1, None, 'NO', 'nvarchar', -1, -1, None, None, None, None, None, None, 'UNICODE', None, None, 'SQL_Latin1_General_CP1_CI_AS', None, None, None)\n",
      "('test', 'dbo', 'test-default', 'langchain_metadata', 2, None, 'YES', 'nvarchar', -1, -1, None, None, None, None, None, None, 'UNICODE', None, None, 'SQL_Latin1_General_CP1_CI_AS', None, None, None)\n"
     ]
    }
   ],
   "source": [
    "engine = MSSQLEngine.from_instance(\n",
    "    project_id=project_id, region=region, instance=instance_id, database=db_name, user=user_name, password=password\n",
    ")\n",
    "with engine.connect() as conn:\n",
    "    conn.execute(sqlalchemy.text(f'DROP TABLE IF EXISTS \"{table_name}\";'))\n",
    "    conn.commit()\n",
    "engine.init_document_table(table_name)\n",
    "with engine.connect() as conn:\n",
    "    result = conn.execute(sqlalchemy.text(f\"select * from INFORMATION_SCHEMA.COLUMNS where TABLE_NAME='{table_name}';\"))\n",
    "    for row in result.fetchall():\n",
    "        print(row)"
   ]
  },
  {
   "cell_type": "markdown",
   "metadata": {},
   "source": [
    "Save langchain documents with `MSSQLDocumentSaver.add_documents(<documents>)`."
   ]
  },
  {
   "cell_type": "code",
   "execution_count": 5,
   "metadata": {
    "tags": []
   },
   "outputs": [],
   "source": [
    "test_docs = [\n",
    "    Document(\n",
    "        page_content=\"Apple Granny Smith 150 0.99 1\",\n",
    "        metadata={\"fruit_id\": 1},\n",
    "    ),\n",
    "    Document(\n",
    "        page_content=\"Banana Cavendish 200 0.59 0\",\n",
    "        metadata={\"fruit_id\": 2},\n",
    "    ),\n",
    "    Document(\n",
    "        page_content=\"Orange Navel 80 1.29 1\",\n",
    "        metadata={\"fruit_id\": 3},\n",
    "    ),\n",
    "]\n",
    "saver = MSSQLDocumentSaver(engine=engine, table_name=table_name)\n",
    "saver.add_documents(test_docs)"
   ]
  },
  {
   "cell_type": "code",
   "execution_count": 29,
   "metadata": {},
   "outputs": [
    {
     "name": "stdout",
     "output_type": "stream",
     "text": [
      "RMKeyView(['page_content', 'langchain_metadata'])\n",
      "[('Apple Granny Smith 150 0.99 1', '{\"fruit_id\": 1}'), ('Banana Cavendish 200 0.59 0', '{\"fruit_id\": 2}'), ('Orange Navel 80 1.29 1', '{\"fruit_id\": 3}')]\n"
     ]
    }
   ],
   "source": [
    "with engine.connect() as conn:\n",
    "    result = conn.execute(sqlalchemy.text(f'select * from \"{table_name}\";'))\n",
    "    print(result.keys())\n",
    "    print(result.fetchall())"
   ]
  },
  {
   "cell_type": "markdown",
   "metadata": {},
   "source": [
    "### Load documents from default table"
   ]
  },
  {
   "cell_type": "markdown",
   "metadata": {},
   "source": [
    "Load langchain document with `MSSQLLoader.load()` or `MSSQLLoader.lazy_load()`. `lazy_load` returns a generator that only queries database during the iteration."
   ]
  },
  {
   "cell_type": "code",
   "execution_count": 6,
   "metadata": {},
   "outputs": [
    {
     "name": "stdout",
     "output_type": "stream",
     "text": [
      "[('page_content', 99), ('langchain_metadata', 99)]\n"
     ]
    },
    {
     "ename": "AttributeError",
     "evalue": "'str' object has no attribute 'items'",
     "output_type": "error",
     "traceback": [
      "\u001b[0;31m---------------------------------------------------------------------------\u001b[0m",
      "\u001b[0;31mAttributeError\u001b[0m                            Traceback (most recent call last)",
      "Cell \u001b[0;32mIn[6], line 3\u001b[0m\n\u001b[1;32m      1\u001b[0m loader \u001b[38;5;241m=\u001b[39m MSSQLLoader(engine\u001b[38;5;241m=\u001b[39mengine, table_name\u001b[38;5;241m=\u001b[39mtable_name)\n\u001b[1;32m      2\u001b[0m docs \u001b[38;5;241m=\u001b[39m loader\u001b[38;5;241m.\u001b[39mlazy_load()\n\u001b[0;32m----> 3\u001b[0m \u001b[38;5;28;43;01mfor\u001b[39;49;00m\u001b[43m \u001b[49m\u001b[43mdoc\u001b[49m\u001b[43m \u001b[49m\u001b[38;5;129;43;01min\u001b[39;49;00m\u001b[43m \u001b[49m\u001b[43mdocs\u001b[49m\u001b[43m:\u001b[49m\n\u001b[1;32m      4\u001b[0m \u001b[43m    \u001b[49m\u001b[38;5;28;43mprint\u001b[39;49m\u001b[43m(\u001b[49m\u001b[38;5;124;43m\"\u001b[39;49m\u001b[38;5;124;43mLoaded documents:\u001b[39;49m\u001b[38;5;124;43m\"\u001b[39;49m\u001b[43m,\u001b[49m\u001b[43m \u001b[49m\u001b[43mdoc\u001b[49m\u001b[43m)\u001b[49m\n",
      "File \u001b[0;32m~/langchain-google-cloud-sql-mssql-python/src/langchain_google_cloud_sql_mssql/mssql_loader.py:155\u001b[0m, in \u001b[0;36mMSSQLLoader.lazy_load\u001b[0;34m(self)\u001b[0m\n\u001b[1;32m    153\u001b[0m     \u001b[38;5;28;01melse\u001b[39;00m:\n\u001b[1;32m    154\u001b[0m         row_data[column] \u001b[38;5;241m=\u001b[39m value\n\u001b[0;32m--> 155\u001b[0m \u001b[38;5;28;01myield\u001b[39;00m \u001b[43m_parse_doc_from_row\u001b[49m\u001b[43m(\u001b[49m\u001b[43mcontent_columns\u001b[49m\u001b[43m,\u001b[49m\u001b[43m \u001b[49m\u001b[43mmetadata_columns\u001b[49m\u001b[43m,\u001b[49m\u001b[43m \u001b[49m\u001b[43mrow_data\u001b[49m\u001b[43m)\u001b[49m\n",
      "File \u001b[0;32m~/langchain-google-cloud-sql-mssql-python/src/langchain_google_cloud_sql_mssql/mssql_loader.py:38\u001b[0m, in \u001b[0;36m_parse_doc_from_row\u001b[0;34m(content_columns, metadata_columns, row)\u001b[0m\n\u001b[1;32m     36\u001b[0m \u001b[38;5;66;03m# unnest metadata from langchain_metadata column\u001b[39;00m\n\u001b[1;32m     37\u001b[0m \u001b[38;5;28;01mif\u001b[39;00m DEFAULT_METADATA_COL \u001b[38;5;129;01min\u001b[39;00m metadata_columns \u001b[38;5;129;01mand\u001b[39;00m row\u001b[38;5;241m.\u001b[39mget(DEFAULT_METADATA_COL):\n\u001b[0;32m---> 38\u001b[0m     \u001b[38;5;28;01mfor\u001b[39;00m k, v \u001b[38;5;129;01min\u001b[39;00m \u001b[43mrow\u001b[49m\u001b[43m[\u001b[49m\u001b[43mDEFAULT_METADATA_COL\u001b[49m\u001b[43m]\u001b[49m\u001b[38;5;241;43m.\u001b[39;49m\u001b[43mitems\u001b[49m():\n\u001b[1;32m     39\u001b[0m         metadata[k] \u001b[38;5;241m=\u001b[39m v\n\u001b[1;32m     40\u001b[0m \u001b[38;5;66;03m# load metadata from other columns\u001b[39;00m\n",
      "\u001b[0;31mAttributeError\u001b[0m: 'str' object has no attribute 'items'"
     ]
    }
   ],
   "source": [
    "loader = MSSQLLoader(engine=engine, table_name=table_name)\n",
    "docs = loader.lazy_load()\n",
    "for doc in docs:\n",
    "    print(\"Loaded documents:\", doc)"
   ]
  },
  {
   "cell_type": "markdown",
   "metadata": {},
   "source": [
    "### Load documents via query"
   ]
  },
  {
   "cell_type": "markdown",
   "metadata": {},
   "source": [
    "Other than loading documents from a table, we can also choose to load documents from a view generated from a SQL query. For example:"
   ]
  },
  {
   "cell_type": "code",
   "execution_count": null,
   "metadata": {},
   "outputs": [],
   "source": [
    "loader = MSSQLLoader(\n",
    "    engine=engine,\n",
    "    query=f\"select * from `{table_name}` where JSON_EXTRACT(langchain_metadata, '$.fruit_id') = 1;\"\n",
    ")\n",
    "onedoc = loader.load()\n",
    "print(\"Loaded documents:\", onedoc)"
   ]
  },
  {
   "cell_type": "markdown",
   "metadata": {},
   "source": [
    "The view generated from SQL query can have different schema than default table. In such cases, the behavior of MSSQLLoader is the same as loading from table with non-default schema. Please refer to section [Load documents with customized document page content & metadata](#Load-documents-with-customized-document-page-content-&-metadata)."
   ]
  },
  {
   "cell_type": "markdown",
   "metadata": {},
   "source": [
    "### Delete documents in default table"
   ]
  },
  {
   "cell_type": "markdown",
   "metadata": {},
   "source": [
    "Delete a list of langchain documents from MSSQL table with `MSSQLDocumentSaver.delete(<documents>)`.\n",
    "\n",
    "For table with default schema (page_content, langchain_metadata), the deletion criteria is:\n",
    "\n",
    "A `row` should be deleted if there exists a `document` in the list, such that\n",
    "- `document.page_content` equals `row[page_content]`\n",
    "- `document.metadata` equals `row[langchain_metadata]`"
   ]
  },
  {
   "cell_type": "code",
   "execution_count": null,
   "metadata": {},
   "outputs": [],
   "source": [
    "loader = MSSQLLoader(\n",
    "    engine=engine,\n",
    "    table_name=table_name\n",
    ")\n",
    "docs = loader.load()\n",
    "print(\"Documents before delete:\", docs)\n",
    "saver.delete(onedoc)\n",
    "print(\"Documents after delete:\", loader.load())"
   ]
  },
  {
   "cell_type": "markdown",
   "metadata": {},
   "source": [
    "## Advanced Usage"
   ]
  },
  {
   "cell_type": "markdown",
   "metadata": {},
   "source": [
    "### Load documents with customized document page content & metadata"
   ]
  },
  {
   "cell_type": "markdown",
   "metadata": {},
   "source": [
    "First we prepare an example table with non-default schema, and populate it with some arbitary data."
   ]
  },
  {
   "cell_type": "code",
   "execution_count": 12,
   "metadata": {},
   "outputs": [],
   "source": [
    "with engine.connect() as conn:\n",
    "    conn.execute(sqlalchemy.text(f\"DROP TABLE IF EXISTS `{table_name}`\"))\n",
    "    conn.commit()\n",
    "    conn.execute(\n",
    "        sqlalchemy.text(\n",
    "            f\"\"\"\n",
    "            CREATE TABLE IF NOT EXISTS `{table_name}`(\n",
    "                fruit_id INT AUTO_INCREMENT PRIMARY KEY,\n",
    "                fruit_name VARCHAR(100) NOT NULL,\n",
    "                variety VARCHAR(50),  \n",
    "                quantity_in_stock INT NOT NULL,\n",
    "                price_per_unit DECIMAL(6,2) NOT NULL,\n",
    "                organic TINYINT(1) NOT NULL\n",
    "            )\n",
    "            \"\"\"\n",
    "        )\n",
    "    )\n",
    "    conn.execute(\n",
    "        sqlalchemy.text(\n",
    "            f\"\"\"\n",
    "            INSERT INTO `{table_name}` (fruit_name, variety, quantity_in_stock, price_per_unit, organic)\n",
    "            VALUES\n",
    "                ('Apple', 'Granny Smith', 150, 0.99, 1),\n",
    "                ('Banana', 'Cavendish', 200, 0.59, 0),\n",
    "                ('Orange', 'Navel', 80, 1.29, 1);\n",
    "            \"\"\"\n",
    "        )\n",
    "    )\n",
    "    conn.commit()"
   ]
  },
  {
   "cell_type": "markdown",
   "metadata": {},
   "source": [
    "If we still load langchain document with default option of `MSSQLLoader` from this example table, the page_content of loaded documents will be the first column of the table, and metadata will be conists of key-value pairs of all the other columns."
   ]
  },
  {
   "cell_type": "code",
   "execution_count": null,
   "metadata": {},
   "outputs": [],
   "source": [
    "loader = MSSQLLoader(\n",
    "    engine=engine,\n",
    "    table_name=table_name,\n",
    ")\n",
    "print(loader.load())"
   ]
  },
  {
   "cell_type": "markdown",
   "metadata": {},
   "source": [
    "We can specify the content and metadata we want to load by setting the `content_columns` and `metadata_columns` when initializing the `MSSQLLoader`.\n",
    "\n",
    "For example here, the values of columns in `content_columns` will be joined together into a space-separated string, as `page_content` of loaded documents, and `metadata` of loaded documents will only contain key-value pairs of columns specified in `metadata_columns`."
   ]
  },
  {
   "cell_type": "code",
   "execution_count": null,
   "metadata": {},
   "outputs": [],
   "source": [
    "loader = MSSQLLoader(\n",
    "    engine=engine,\n",
    "    table_name=table_name,\n",
    "    content_columns=[\n",
    "        \"variety\",\n",
    "        \"quantity_in_stock\",\n",
    "        \"price_per_unit\",\n",
    "        \"organic\",\n",
    "    ],\n",
    "    metadata_columns=[\"fruit_id\", \"fruit_name\"],\n",
    ")\n",
    "print(loader.load())"
   ]
  },
  {
   "cell_type": "markdown",
   "metadata": {},
   "source": [
    "### Save document into table with customized metadata"
   ]
  },
  {
   "cell_type": "markdown",
   "metadata": {},
   "source": [
    "In order to save langchain document into table with customized metadata fields. We need first create such a table via `MSSQLEngine.init_document_table()`, and specify the list of `metadata_columns` we want it to have. In this example, the created table will have table columns:\n",
    "- page_content (type: text)\n",
    "- fruit_name (type text)\n",
    "- organic (type tinyint(1))\n",
    "- langchain_metadata (type: JSON)\n",
    "\n",
    "`store_metadata` indicate if we want to store metadata fields other than the ones specified in `metadata_columns`, those extra metadata will be stored in `langchain_metadata` column. In case of `store_metadata=False`, `langchain_metadata` will not be created."
   ]
  },
  {
   "cell_type": "code",
   "execution_count": 15,
   "metadata": {},
   "outputs": [],
   "source": [
    "with engine.connect() as conn:\n",
    "    conn.execute(sqlalchemy.text(f\"DROP TABLE IF EXISTS `{table_name}`\"))\n",
    "    conn.commit()\n",
    "engine.init_document_table(\n",
    "    table_name, \n",
    "    metadata_columns=[\n",
    "        sqlalchemy.Column(\n",
    "            \"fruit_name\",\n",
    "            sqlalchemy.UnicodeText,\n",
    "            primary_key=False,\n",
    "            nullable=True,\n",
    "        ),\n",
    "        sqlalchemy.Column(\n",
    "            \"organic\",\n",
    "            sqlalchemy.Boolean,\n",
    "            primary_key=False,\n",
    "            nullable=True,\n",
    "        ),\n",
    "    ],\n",
    "    store_metadata=True\n",
    ")"
   ]
  },
  {
   "cell_type": "markdown",
   "metadata": {},
   "source": [
    "Save documents with `MSSQLDocumentSaver.add_documents(<documents>)`. As you can see in this example, \n",
    "- `document.page_content` will be saved into `page_content` column.\n",
    "- `document.metadata.fruit_name` will be saved into `fruit_name` column.\n",
    "- `document.metadata.organic` will be saved into `organic` column.\n",
    "- `document.metadata.fruit_id` will be saved into `langchain_metadata` column in JSON format."
   ]
  },
  {
   "cell_type": "code",
   "execution_count": null,
   "metadata": {},
   "outputs": [],
   "source": [
    "test_docs = [\n",
    "    Document(\n",
    "        page_content=\"Granny Smith 150 0.99\",\n",
    "        metadata={\"fruit_id\": 1, \"fruit_name\": \"Apple\", \"organic\": 1},\n",
    "    ),\n",
    "]\n",
    "saver = MSSQLDocumentSaver(engine=engine, table_name=table_name)\n",
    "saver.add_documents(test_docs)\n",
    "with engine.connect() as conn:\n",
    "    result = conn.execute(sqlalchemy.text(f\"select * from `{table_name}`;\"))\n",
    "    print(result.keys())\n",
    "    print(result.fetchall())"
   ]
  },
  {
   "cell_type": "markdown",
   "metadata": {},
   "source": [
    "### Delete documents in table with customized metadata"
   ]
  },
  {
   "cell_type": "markdown",
   "metadata": {},
   "source": [
    "We can also delete documents from table with customized metadata columns via `MSSQLDocumentSaver.delete(<documents>)`. The deletion criteria is:\n",
    "\n",
    "A `row` should be deleted if there exists a `document` in the list, such that\n",
    "- `document.page_content` equals `row[page_content]`\n",
    "- For every metadata field `k` in `document.metadata`\n",
    "    - `document.metadata[k]` equals `row[k]` or `document.metadata[k]` equals `row[langchain_metadata][k]`\n",
    "- There no extra metadata field presents in `row` but not in `document.metadata`.\n",
    "\n"
   ]
  },
  {
   "cell_type": "code",
   "execution_count": null,
   "metadata": {},
   "outputs": [],
   "source": [
    "loader = MSSQLLoader(\n",
    "    engine=engine,\n",
    "    table_name=table_name\n",
    ")\n",
    "docs = loader.load()\n",
    "print(\"Documents before delete:\", docs)\n",
    "saver.delete(docs)\n",
    "print(\"Documents after delete:\", loader.load())"
   ]
  }
 ],
 "metadata": {
  "kernelspec": {
   "display_name": "Python 3 (ipykernel)",
   "language": "python",
   "name": "python3"
  },
  "language_info": {
   "codemirror_mode": {
    "name": "ipython",
    "version": 3
   },
   "file_extension": ".py",
   "mimetype": "text/x-python",
   "name": "python",
   "nbconvert_exporter": "python",
   "pygments_lexer": "ipython3",
   "version": "3.11.6"
  }
 },
 "nbformat": 4,
 "nbformat_minor": 4
}
